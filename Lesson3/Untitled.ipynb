{
 "cells": [
  {
   "cell_type": "code",
   "execution_count": 1,
   "metadata": {},
   "outputs": [],
   "source": [
    "import pandas as pd\n",
    "from random import choice\n",
    "import numpy as np\n",
    "import seaborn as sns\n",
    "import matplotlib.pyplot as plt\n",
    "%matplotlib inline"
   ]
  },
  {
   "cell_type": "code",
   "execution_count": 2,
   "metadata": {},
   "outputs": [],
   "source": [
    "df = pd.read_csv('/mnt/HC_Volume_18315164/home-jupyter/jupyter-v-kachanovskij-24/Lesson3/lesson_3_data.csv', encoding = 'windows-1251')"
   ]
  },
  {
   "cell_type": "code",
   "execution_count": 3,
   "metadata": {},
   "outputs": [],
   "source": [
    "df_lesson3 = pd.DataFrame({'Клиент id': np.random.randint(1, 10000, 30),\n",
    "                            'Пол': np.random.choice([0,1],30),\n",
    "                            'Благосостояние': np.random.choice(['low', 'medium', 'high'],30),\n",
    "                            'Возраст': np.random.randint(20,70,30)})"
   ]
  },
  {
   "cell_type": "code",
   "execution_count": 4,
   "metadata": {},
   "outputs": [],
   "source": [
    "df_lesson3 = df_lesson3.rename(columns={\"Клиент id\": \"client_id\", \"Пол\": \"sex\", \"Благосостояние\": \"wealth\", \"Возраст\": \"age\"})"
   ]
  },
  {
   "cell_type": "code",
   "execution_count": 5,
   "metadata": {},
   "outputs": [
    {
     "data": {
      "text/html": [
       "<div>\n",
       "<style scoped>\n",
       "    .dataframe tbody tr th:only-of-type {\n",
       "        vertical-align: middle;\n",
       "    }\n",
       "\n",
       "    .dataframe tbody tr th {\n",
       "        vertical-align: top;\n",
       "    }\n",
       "\n",
       "    .dataframe thead th {\n",
       "        text-align: right;\n",
       "    }\n",
       "</style>\n",
       "<table border=\"1\" class=\"dataframe\">\n",
       "  <thead>\n",
       "    <tr style=\"text-align: right;\">\n",
       "      <th></th>\n",
       "      <th>client_id</th>\n",
       "      <th>sex</th>\n",
       "      <th>wealth</th>\n",
       "      <th>age</th>\n",
       "    </tr>\n",
       "  </thead>\n",
       "  <tbody>\n",
       "    <tr>\n",
       "      <th>0</th>\n",
       "      <td>4154</td>\n",
       "      <td>0</td>\n",
       "      <td>low</td>\n",
       "      <td>33</td>\n",
       "    </tr>\n",
       "    <tr>\n",
       "      <th>1</th>\n",
       "      <td>6591</td>\n",
       "      <td>1</td>\n",
       "      <td>low</td>\n",
       "      <td>28</td>\n",
       "    </tr>\n",
       "    <tr>\n",
       "      <th>2</th>\n",
       "      <td>7057</td>\n",
       "      <td>1</td>\n",
       "      <td>high</td>\n",
       "      <td>20</td>\n",
       "    </tr>\n",
       "    <tr>\n",
       "      <th>3</th>\n",
       "      <td>6885</td>\n",
       "      <td>0</td>\n",
       "      <td>low</td>\n",
       "      <td>47</td>\n",
       "    </tr>\n",
       "    <tr>\n",
       "      <th>4</th>\n",
       "      <td>2936</td>\n",
       "      <td>0</td>\n",
       "      <td>medium</td>\n",
       "      <td>47</td>\n",
       "    </tr>\n",
       "  </tbody>\n",
       "</table>\n",
       "</div>"
      ],
      "text/plain": [
       "   client_id  sex  wealth  age\n",
       "0       4154    0     low   33\n",
       "1       6591    1     low   28\n",
       "2       7057    1    high   20\n",
       "3       6885    0     low   47\n",
       "4       2936    0  medium   47"
      ]
     },
     "execution_count": 5,
     "metadata": {},
     "output_type": "execute_result"
    }
   ],
   "source": [
    "df_lesson3.head()\n"
   ]
  },
  {
   "cell_type": "code",
   "execution_count": 6,
   "metadata": {},
   "outputs": [],
   "source": [
    "unique_num =pd.Series({'client_id': df_lesson3.client_id.nunique(), 'sex': df_lesson3.sex.nunique(), 'wealth': df_lesson3.wealth.nunique(), 'age': df_lesson3.age.nunique()})"
   ]
  },
  {
   "cell_type": "code",
   "execution_count": 8,
   "metadata": {},
   "outputs": [
    {
     "data": {
      "text/plain": [
       "2"
      ]
     },
     "execution_count": 8,
     "metadata": {},
     "output_type": "execute_result"
    }
   ],
   "source": [
    "df_lesson3.sex.nunique()"
   ]
  },
  {
   "cell_type": "code",
   "execution_count": 9,
   "metadata": {},
   "outputs": [
    {
     "data": {
      "text/plain": [
       "client_id    30\n",
       "sex           2\n",
       "wealth        3\n",
       "age          23\n",
       "dtype: int64"
      ]
     },
     "execution_count": 9,
     "metadata": {},
     "output_type": "execute_result"
    }
   ],
   "source": [
    "unique_num"
   ]
  },
  {
   "cell_type": "code",
   "execution_count": null,
   "metadata": {},
   "outputs": [],
   "source": []
  },
  {
   "cell_type": "code",
   "execution_count": 10,
   "metadata": {},
   "outputs": [
    {
     "data": {
      "text/html": [
       "<div>\n",
       "<style scoped>\n",
       "    .dataframe tbody tr th:only-of-type {\n",
       "        vertical-align: middle;\n",
       "    }\n",
       "\n",
       "    .dataframe tbody tr th {\n",
       "        vertical-align: top;\n",
       "    }\n",
       "\n",
       "    .dataframe thead th {\n",
       "        text-align: right;\n",
       "    }\n",
       "</style>\n",
       "<table border=\"1\" class=\"dataframe\">\n",
       "  <thead>\n",
       "    <tr style=\"text-align: right;\">\n",
       "      <th></th>\n",
       "      <th>Unnamed: 0</th>\n",
       "      <th>tk</th>\n",
       "      <th>pl</th>\n",
       "      <th>dia</th>\n",
       "      <th>hs</th>\n",
       "      <th>tc</th>\n",
       "      <th>cta</th>\n",
       "      <th>id_art</th>\n",
       "      <th>id_subsubfam</th>\n",
       "      <th>id_subfam</th>\n",
       "      <th>...</th>\n",
       "      <th>id_famn</th>\n",
       "      <th>id_seccion</th>\n",
       "      <th>id_subagr</th>\n",
       "      <th>id_agr</th>\n",
       "      <th>vta</th>\n",
       "      <th>uni</th>\n",
       "      <th>id_artn</th>\n",
       "      <th>art_sp</th>\n",
       "      <th>fam_sp</th>\n",
       "      <th>fam_en</th>\n",
       "    </tr>\n",
       "  </thead>\n",
       "  <tbody>\n",
       "    <tr>\n",
       "      <th>0</th>\n",
       "      <td>1242</td>\n",
       "      <td>120071109002055793</td>\n",
       "      <td>1</td>\n",
       "      <td>2007/11/09</td>\n",
       "      <td>0.505729</td>\n",
       "      <td>110000761</td>\n",
       "      <td>11000076</td>\n",
       "      <td>21895</td>\n",
       "      <td>101070640100</td>\n",
       "      <td>1010706401</td>\n",
       "      <td>...</td>\n",
       "      <td>10107064</td>\n",
       "      <td>10107</td>\n",
       "      <td>101</td>\n",
       "      <td>1</td>\n",
       "      <td>0.68</td>\n",
       "      <td>1.0</td>\n",
       "      <td>21895</td>\n",
       "      <td>MARAVILLA        500 G Store_Brand</td>\n",
       "      <td>PASTA ALIMENTICIA SE</td>\n",
       "      <td>pasta</td>\n",
       "    </tr>\n",
       "    <tr>\n",
       "      <th>1</th>\n",
       "      <td>1243</td>\n",
       "      <td>120070601004053633</td>\n",
       "      <td>1</td>\n",
       "      <td>2007/06/01</td>\n",
       "      <td>0.588519</td>\n",
       "      <td>110000761</td>\n",
       "      <td>11000076</td>\n",
       "      <td>21816</td>\n",
       "      <td>101070640100</td>\n",
       "      <td>1010706401</td>\n",
       "      <td>...</td>\n",
       "      <td>10107064</td>\n",
       "      <td>10107</td>\n",
       "      <td>101</td>\n",
       "      <td>1</td>\n",
       "      <td>0.38</td>\n",
       "      <td>1.0</td>\n",
       "      <td>21816</td>\n",
       "      <td>FIDEO CABELLIN   500 G Store_Brand</td>\n",
       "      <td>PASTA ALIMENTICIA SE</td>\n",
       "      <td>pasta</td>\n",
       "    </tr>\n",
       "    <tr>\n",
       "      <th>2</th>\n",
       "      <td>1244</td>\n",
       "      <td>120070928004076410</td>\n",
       "      <td>1</td>\n",
       "      <td>2007/09/28</td>\n",
       "      <td>0.785498</td>\n",
       "      <td>28491841</td>\n",
       "      <td>2849184</td>\n",
       "      <td>562840</td>\n",
       "      <td>101070640100</td>\n",
       "      <td>1010706401</td>\n",
       "      <td>...</td>\n",
       "      <td>10107064</td>\n",
       "      <td>10107</td>\n",
       "      <td>101</td>\n",
       "      <td>1</td>\n",
       "      <td>1.55</td>\n",
       "      <td>2.0</td>\n",
       "      <td>562840</td>\n",
       "      <td>SPAGUETTI Nє 5 500 G Brand_1</td>\n",
       "      <td>PASTA ALIMENTICIA SE</td>\n",
       "      <td>pasta</td>\n",
       "    </tr>\n",
       "    <tr>\n",
       "      <th>3</th>\n",
       "      <td>1245</td>\n",
       "      <td>120070616003074261</td>\n",
       "      <td>1</td>\n",
       "      <td>2007/06/16</td>\n",
       "      <td>0.550961</td>\n",
       "      <td>95931501</td>\n",
       "      <td>9593150</td>\n",
       "      <td>28914</td>\n",
       "      <td>101070640100</td>\n",
       "      <td>1010706401</td>\n",
       "      <td>...</td>\n",
       "      <td>10107064</td>\n",
       "      <td>10107</td>\n",
       "      <td>101</td>\n",
       "      <td>1</td>\n",
       "      <td>1.03</td>\n",
       "      <td>2.0</td>\n",
       "      <td>28914</td>\n",
       "      <td>FIDEO FIDEUБ      500 Brand_7</td>\n",
       "      <td>PASTA ALIMENTICIA SE</td>\n",
       "      <td>pasta</td>\n",
       "    </tr>\n",
       "    <tr>\n",
       "      <th>4</th>\n",
       "      <td>1246</td>\n",
       "      <td>120070519001018477</td>\n",
       "      <td>1</td>\n",
       "      <td>2007/05/19</td>\n",
       "      <td>0.804954</td>\n",
       "      <td>93265591</td>\n",
       "      <td>9326559</td>\n",
       "      <td>159867</td>\n",
       "      <td>101070640100</td>\n",
       "      <td>1010706401</td>\n",
       "      <td>...</td>\n",
       "      <td>10107064</td>\n",
       "      <td>10107</td>\n",
       "      <td>101</td>\n",
       "      <td>1</td>\n",
       "      <td>1.09</td>\n",
       "      <td>1.0</td>\n",
       "      <td>159867</td>\n",
       "      <td>MACARRONES  GRATINAR 5 Brand_2</td>\n",
       "      <td>PASTA ALIMENTICIA SE</td>\n",
       "      <td>pasta</td>\n",
       "    </tr>\n",
       "  </tbody>\n",
       "</table>\n",
       "<p>5 rows × 21 columns</p>\n",
       "</div>"
      ],
      "text/plain": [
       "   Unnamed: 0                  tk  pl         dia        hs         tc  \\\n",
       "0        1242  120071109002055793   1  2007/11/09  0.505729  110000761   \n",
       "1        1243  120070601004053633   1  2007/06/01  0.588519  110000761   \n",
       "2        1244  120070928004076410   1  2007/09/28  0.785498   28491841   \n",
       "3        1245  120070616003074261   1  2007/06/16  0.550961   95931501   \n",
       "4        1246  120070519001018477   1  2007/05/19  0.804954   93265591   \n",
       "\n",
       "        cta  id_art  id_subsubfam   id_subfam  ...   id_famn  id_seccion  \\\n",
       "0  11000076   21895  101070640100  1010706401  ...  10107064       10107   \n",
       "1  11000076   21816  101070640100  1010706401  ...  10107064       10107   \n",
       "2   2849184  562840  101070640100  1010706401  ...  10107064       10107   \n",
       "3   9593150   28914  101070640100  1010706401  ...  10107064       10107   \n",
       "4   9326559  159867  101070640100  1010706401  ...  10107064       10107   \n",
       "\n",
       "   id_subagr  id_agr   vta  uni  id_artn                              art_sp  \\\n",
       "0        101       1  0.68  1.0    21895  MARAVILLA        500 G Store_Brand   \n",
       "1        101       1  0.38  1.0    21816  FIDEO CABELLIN   500 G Store_Brand   \n",
       "2        101       1  1.55  2.0   562840        SPAGUETTI Nє 5 500 G Brand_1   \n",
       "3        101       1  1.03  2.0    28914       FIDEO FIDEUБ      500 Brand_7   \n",
       "4        101       1  1.09  1.0   159867      MACARRONES  GRATINAR 5 Brand_2   \n",
       "\n",
       "                 fam_sp fam_en  \n",
       "0  PASTA ALIMENTICIA SE  pasta  \n",
       "1  PASTA ALIMENTICIA SE  pasta  \n",
       "2  PASTA ALIMENTICIA SE  pasta  \n",
       "3  PASTA ALIMENTICIA SE  pasta  \n",
       "4  PASTA ALIMENTICIA SE  pasta  \n",
       "\n",
       "[5 rows x 21 columns]"
      ]
     },
     "execution_count": 10,
     "metadata": {},
     "output_type": "execute_result"
    }
   ],
   "source": [
    "df.head()"
   ]
  },
  {
   "cell_type": "code",
   "execution_count": 11,
   "metadata": {},
   "outputs": [],
   "source": [
    "user_df = df[['tc', 'art_sp']]"
   ]
  },
  {
   "cell_type": "code",
   "execution_count": null,
   "metadata": {},
   "outputs": [],
   "source": []
  },
  {
   "cell_type": "code",
   "execution_count": 12,
   "metadata": {},
   "outputs": [],
   "source": [
    "user_df = user_df.rename(columns={'tc': 'user_id', 'art_sp': 'brand_info'})"
   ]
  },
  {
   "cell_type": "code",
   "execution_count": 13,
   "metadata": {},
   "outputs": [
    {
     "ename": "NameError",
     "evalue": "name 'brand_name' is not defined",
     "output_type": "error",
     "traceback": [
      "\u001b[0;31m---------------------------------------------------------------------------\u001b[0m",
      "\u001b[0;31mNameError\u001b[0m                                 Traceback (most recent call last)",
      "\u001b[0;32m<ipython-input-13-339c6499e3f2>\u001b[0m in \u001b[0;36m<module>\u001b[0;34m\u001b[0m\n\u001b[0;32m----> 1\u001b[0;31m \u001b[0mbrand_name\u001b[0m\u001b[0;34m.\u001b[0m\u001b[0msplit\u001b[0m\u001b[0;34m(\u001b[0m\u001b[0;34m' '\u001b[0m\u001b[0;34m)\u001b[0m\u001b[0;34m[\u001b[0m\u001b[0;34m-\u001b[0m\u001b[0;36m1\u001b[0m\u001b[0;34m]\u001b[0m \u001b[0;31m#разделить по указателю - пробел. Берем первый с конца элемент\u001b[0m\u001b[0;34m\u001b[0m\u001b[0;34m\u001b[0m\u001b[0m\n\u001b[0m",
      "\u001b[0;31mNameError\u001b[0m: name 'brand_name' is not defined"
     ]
    }
   ],
   "source": [
    "brand_name.split(' ')[-1] #разделить по указателю - пробел. Берем первый с конца элемент"
   ]
  },
  {
   "cell_type": "code",
   "execution_count": 14,
   "metadata": {},
   "outputs": [
    {
     "data": {
      "text/html": [
       "<div>\n",
       "<style scoped>\n",
       "    .dataframe tbody tr th:only-of-type {\n",
       "        vertical-align: middle;\n",
       "    }\n",
       "\n",
       "    .dataframe tbody tr th {\n",
       "        vertical-align: top;\n",
       "    }\n",
       "\n",
       "    .dataframe thead th {\n",
       "        text-align: right;\n",
       "    }\n",
       "</style>\n",
       "<table border=\"1\" class=\"dataframe\">\n",
       "  <thead>\n",
       "    <tr style=\"text-align: right;\">\n",
       "      <th></th>\n",
       "      <th>user_id</th>\n",
       "      <th>brand_info</th>\n",
       "    </tr>\n",
       "  </thead>\n",
       "  <tbody>\n",
       "    <tr>\n",
       "      <th>0</th>\n",
       "      <td>110000761</td>\n",
       "      <td>MARAVILLA        500 G Store_Brand</td>\n",
       "    </tr>\n",
       "    <tr>\n",
       "      <th>1</th>\n",
       "      <td>110000761</td>\n",
       "      <td>FIDEO CABELLIN   500 G Store_Brand</td>\n",
       "    </tr>\n",
       "    <tr>\n",
       "      <th>2</th>\n",
       "      <td>28491841</td>\n",
       "      <td>SPAGUETTI Nє 5 500 G Brand_1</td>\n",
       "    </tr>\n",
       "    <tr>\n",
       "      <th>3</th>\n",
       "      <td>95931501</td>\n",
       "      <td>FIDEO FIDEUБ      500 Brand_7</td>\n",
       "    </tr>\n",
       "    <tr>\n",
       "      <th>4</th>\n",
       "      <td>93265591</td>\n",
       "      <td>MACARRONES  GRATINAR 5 Brand_2</td>\n",
       "    </tr>\n",
       "  </tbody>\n",
       "</table>\n",
       "</div>"
      ],
      "text/plain": [
       "     user_id                          brand_info\n",
       "0  110000761  MARAVILLA        500 G Store_Brand\n",
       "1  110000761  FIDEO CABELLIN   500 G Store_Brand\n",
       "2   28491841        SPAGUETTI Nє 5 500 G Brand_1\n",
       "3   95931501       FIDEO FIDEUБ      500 Brand_7\n",
       "4   93265591      MACARRONES  GRATINAR 5 Brand_2"
      ]
     },
     "execution_count": 14,
     "metadata": {},
     "output_type": "execute_result"
    }
   ],
   "source": [
    "user_df.head()"
   ]
  },
  {
   "cell_type": "code",
   "execution_count": 15,
   "metadata": {},
   "outputs": [],
   "source": [
    "def split_brand(brand_name_data):\n",
    "    return brand_name_data.split(' ')[-1]"
   ]
  },
  {
   "cell_type": "code",
   "execution_count": 16,
   "metadata": {},
   "outputs": [],
   "source": [
    "brand_name = 'MARAVILLA 500 G Store_Brand'"
   ]
  },
  {
   "cell_type": "code",
   "execution_count": 17,
   "metadata": {},
   "outputs": [
    {
     "data": {
      "text/plain": [
       "'Store_Brand'"
      ]
     },
     "execution_count": 17,
     "metadata": {},
     "output_type": "execute_result"
    }
   ],
   "source": [
    "split_brand('MARAVILLA 500 G Store_Brand')"
   ]
  },
  {
   "cell_type": "raw",
   "metadata": {},
   "source": []
  },
  {
   "cell_type": "code",
   "execution_count": null,
   "metadata": {},
   "outputs": [],
   "source": []
  },
  {
   "cell_type": "code",
   "execution_count": null,
   "metadata": {},
   "outputs": [],
   "source": []
  },
  {
   "cell_type": "code",
   "execution_count": null,
   "metadata": {},
   "outputs": [],
   "source": []
  },
  {
   "cell_type": "code",
   "execution_count": null,
   "metadata": {},
   "outputs": [],
   "source": []
  },
  {
   "cell_type": "code",
   "execution_count": null,
   "metadata": {},
   "outputs": [],
   "source": []
  },
  {
   "cell_type": "code",
   "execution_count": 18,
   "metadata": {},
   "outputs": [],
   "source": [
    "#Lesson2"
   ]
  },
  {
   "cell_type": "code",
   "execution_count": 19,
   "metadata": {},
   "outputs": [],
   "source": [
    "names = 'Name1 Surname1, Name2 Surname2'"
   ]
  },
  {
   "cell_type": "code",
   "execution_count": 20,
   "metadata": {},
   "outputs": [],
   "source": [
    "names_list = names.split(',')"
   ]
  },
  {
   "cell_type": "code",
   "execution_count": 21,
   "metadata": {},
   "outputs": [
    {
     "data": {
      "text/plain": [
       "['Name1 Surname1', ' Name2 Surname2']"
      ]
     },
     "execution_count": 21,
     "metadata": {},
     "output_type": "execute_result"
    }
   ],
   "source": [
    "names_list"
   ]
  },
  {
   "cell_type": "code",
   "execution_count": 22,
   "metadata": {},
   "outputs": [],
   "source": [
    "user_df['brand_mark'] = user_df.brand_info.apply(split_brand)"
   ]
  },
  {
   "cell_type": "raw",
   "metadata": {},
   "source": [
    "user_df.head()   "
   ]
  },
  {
   "cell_type": "code",
   "execution_count": 23,
   "metadata": {},
   "outputs": [
    {
     "data": {
      "text/html": [
       "<div>\n",
       "<style scoped>\n",
       "    .dataframe tbody tr th:only-of-type {\n",
       "        vertical-align: middle;\n",
       "    }\n",
       "\n",
       "    .dataframe tbody tr th {\n",
       "        vertical-align: top;\n",
       "    }\n",
       "\n",
       "    .dataframe thead th {\n",
       "        text-align: right;\n",
       "    }\n",
       "</style>\n",
       "<table border=\"1\" class=\"dataframe\">\n",
       "  <thead>\n",
       "    <tr style=\"text-align: right;\">\n",
       "      <th></th>\n",
       "      <th>user_id</th>\n",
       "      <th>brand_info</th>\n",
       "      <th>brand_mark</th>\n",
       "    </tr>\n",
       "  </thead>\n",
       "  <tbody>\n",
       "    <tr>\n",
       "      <th>0</th>\n",
       "      <td>110000761</td>\n",
       "      <td>MARAVILLA        500 G Store_Brand</td>\n",
       "      <td>Store_Brand</td>\n",
       "    </tr>\n",
       "    <tr>\n",
       "      <th>1</th>\n",
       "      <td>110000761</td>\n",
       "      <td>FIDEO CABELLIN   500 G Store_Brand</td>\n",
       "      <td>Store_Brand</td>\n",
       "    </tr>\n",
       "    <tr>\n",
       "      <th>2</th>\n",
       "      <td>28491841</td>\n",
       "      <td>SPAGUETTI Nє 5 500 G Brand_1</td>\n",
       "      <td>Brand_1</td>\n",
       "    </tr>\n",
       "    <tr>\n",
       "      <th>3</th>\n",
       "      <td>95931501</td>\n",
       "      <td>FIDEO FIDEUБ      500 Brand_7</td>\n",
       "      <td>Brand_7</td>\n",
       "    </tr>\n",
       "    <tr>\n",
       "      <th>4</th>\n",
       "      <td>93265591</td>\n",
       "      <td>MACARRONES  GRATINAR 5 Brand_2</td>\n",
       "      <td>Brand_2</td>\n",
       "    </tr>\n",
       "  </tbody>\n",
       "</table>\n",
       "</div>"
      ],
      "text/plain": [
       "     user_id                          brand_info   brand_mark\n",
       "0  110000761  MARAVILLA        500 G Store_Brand  Store_Brand\n",
       "1  110000761  FIDEO CABELLIN   500 G Store_Brand  Store_Brand\n",
       "2   28491841        SPAGUETTI Nє 5 500 G Brand_1      Brand_1\n",
       "3   95931501       FIDEO FIDEUБ      500 Brand_7      Brand_7\n",
       "4   93265591      MACARRONES  GRATINAR 5 Brand_2      Brand_2"
      ]
     },
     "execution_count": 23,
     "metadata": {},
     "output_type": "execute_result"
    }
   ],
   "source": [
    "user_df.head()   "
   ]
  },
  {
   "cell_type": "code",
   "execution_count": 24,
   "metadata": {},
   "outputs": [],
   "source": [
    "user_purchases = user_df.groupby('user_id', as_index=False) \\\n",
    "    .agg({'brand_mark': 'count'}) \\\n",
    "    .rename(columns={'brand_mark': 'purchases'}) \\\n",
    "    .query('purchases >= 5')"
   ]
  },
  {
   "cell_type": "code",
   "execution_count": 25,
   "metadata": {},
   "outputs": [],
   "source": [
    "users_unique_brands = user_df.groupby('user_id', as_index = False) \\\n",
    "    .agg({'brand_mark': pd.Series.nunique}) \\\n",
    "    .rename(columns={'brand_mark': 'unique_brand'})"
   ]
  },
  {
   "cell_type": "code",
   "execution_count": null,
   "metadata": {},
   "outputs": [],
   "source": []
  },
  {
   "cell_type": "code",
   "execution_count": null,
   "metadata": {},
   "outputs": [],
   "source": []
  },
  {
   "cell_type": "code",
   "execution_count": null,
   "metadata": {},
   "outputs": [],
   "source": []
  },
  {
   "cell_type": "raw",
   "metadata": {},
   "source": []
  },
  {
   "cell_type": "code",
   "execution_count": 26,
   "metadata": {},
   "outputs": [
    {
     "data": {
      "text/html": [
       "<div>\n",
       "<style scoped>\n",
       "    .dataframe tbody tr th:only-of-type {\n",
       "        vertical-align: middle;\n",
       "    }\n",
       "\n",
       "    .dataframe tbody tr th {\n",
       "        vertical-align: top;\n",
       "    }\n",
       "\n",
       "    .dataframe thead th {\n",
       "        text-align: right;\n",
       "    }\n",
       "</style>\n",
       "<table border=\"1\" class=\"dataframe\">\n",
       "  <thead>\n",
       "    <tr style=\"text-align: right;\">\n",
       "      <th></th>\n",
       "      <th>user_id</th>\n",
       "      <th>unique_brand</th>\n",
       "    </tr>\n",
       "  </thead>\n",
       "  <tbody>\n",
       "    <tr>\n",
       "      <th>0</th>\n",
       "      <td>-1236394515</td>\n",
       "      <td>1</td>\n",
       "    </tr>\n",
       "    <tr>\n",
       "      <th>1</th>\n",
       "      <td>1031</td>\n",
       "      <td>2</td>\n",
       "    </tr>\n",
       "    <tr>\n",
       "      <th>2</th>\n",
       "      <td>4241</td>\n",
       "      <td>2</td>\n",
       "    </tr>\n",
       "    <tr>\n",
       "      <th>3</th>\n",
       "      <td>17311</td>\n",
       "      <td>1</td>\n",
       "    </tr>\n",
       "    <tr>\n",
       "      <th>4</th>\n",
       "      <td>17312</td>\n",
       "      <td>2</td>\n",
       "    </tr>\n",
       "    <tr>\n",
       "      <th>...</th>\n",
       "      <td>...</td>\n",
       "      <td>...</td>\n",
       "    </tr>\n",
       "    <tr>\n",
       "      <th>11759</th>\n",
       "      <td>1408817589</td>\n",
       "      <td>2</td>\n",
       "    </tr>\n",
       "    <tr>\n",
       "      <th>11760</th>\n",
       "      <td>1408825059</td>\n",
       "      <td>1</td>\n",
       "    </tr>\n",
       "    <tr>\n",
       "      <th>11761</th>\n",
       "      <td>1408832719</td>\n",
       "      <td>1</td>\n",
       "    </tr>\n",
       "    <tr>\n",
       "      <th>11762</th>\n",
       "      <td>1408840919</td>\n",
       "      <td>1</td>\n",
       "    </tr>\n",
       "    <tr>\n",
       "      <th>11763</th>\n",
       "      <td>1408849249</td>\n",
       "      <td>1</td>\n",
       "    </tr>\n",
       "  </tbody>\n",
       "</table>\n",
       "<p>11764 rows × 2 columns</p>\n",
       "</div>"
      ],
      "text/plain": [
       "          user_id  unique_brand\n",
       "0     -1236394515             1\n",
       "1            1031             2\n",
       "2            4241             2\n",
       "3           17311             1\n",
       "4           17312             2\n",
       "...           ...           ...\n",
       "11759  1408817589             2\n",
       "11760  1408825059             1\n",
       "11761  1408832719             1\n",
       "11762  1408840919             1\n",
       "11763  1408849249             1\n",
       "\n",
       "[11764 rows x 2 columns]"
      ]
     },
     "execution_count": 26,
     "metadata": {},
     "output_type": "execute_result"
    }
   ],
   "source": [
    "users_unique_brands"
   ]
  },
  {
   "cell_type": "code",
   "execution_count": 27,
   "metadata": {},
   "outputs": [
    {
     "data": {
      "text/html": [
       "<div>\n",
       "<style scoped>\n",
       "    .dataframe tbody tr th:only-of-type {\n",
       "        vertical-align: middle;\n",
       "    }\n",
       "\n",
       "    .dataframe tbody tr th {\n",
       "        vertical-align: top;\n",
       "    }\n",
       "\n",
       "    .dataframe thead th {\n",
       "        text-align: right;\n",
       "    }\n",
       "</style>\n",
       "<table border=\"1\" class=\"dataframe\">\n",
       "  <thead>\n",
       "    <tr style=\"text-align: right;\">\n",
       "      <th></th>\n",
       "      <th>user_id</th>\n",
       "      <th>purchases</th>\n",
       "    </tr>\n",
       "  </thead>\n",
       "  <tbody>\n",
       "    <tr>\n",
       "      <th>1</th>\n",
       "      <td>1031</td>\n",
       "      <td>6</td>\n",
       "    </tr>\n",
       "    <tr>\n",
       "      <th>2</th>\n",
       "      <td>4241</td>\n",
       "      <td>5</td>\n",
       "    </tr>\n",
       "    <tr>\n",
       "      <th>11</th>\n",
       "      <td>25971</td>\n",
       "      <td>7</td>\n",
       "    </tr>\n",
       "    <tr>\n",
       "      <th>14</th>\n",
       "      <td>40911</td>\n",
       "      <td>27</td>\n",
       "    </tr>\n",
       "    <tr>\n",
       "      <th>16</th>\n",
       "      <td>45181</td>\n",
       "      <td>5</td>\n",
       "    </tr>\n",
       "  </tbody>\n",
       "</table>\n",
       "</div>"
      ],
      "text/plain": [
       "    user_id  purchases\n",
       "1      1031          6\n",
       "2      4241          5\n",
       "11    25971          7\n",
       "14    40911         27\n",
       "16    45181          5"
      ]
     },
     "execution_count": 27,
     "metadata": {},
     "output_type": "execute_result"
    }
   ],
   "source": [
    "user_purchases.head(5) #Сохранили ID покупателей с числом покупок больше 5"
   ]
  },
  {
   "cell_type": "code",
   "execution_count": 28,
   "metadata": {},
   "outputs": [],
   "source": [
    "lovely_brand_purchases_df = user_df.groupby(['user_id', 'brand_mark'],as_index= False) \\\n",
    "    .agg({'brand_info' : 'count'}) \\\n",
    "    .sort_values([\"user_id\", 'brand_info'], ascending = [False, False]) \\\n",
    "    .groupby('user_id') \\\n",
    "    .head(1) \\\n",
    "    .rename(columns = {'brand_mark': 'lovely_brand', 'brand_info': 'lovely_brand_purchases'})"
   ]
  },
  {
   "cell_type": "code",
   "execution_count": 29,
   "metadata": {},
   "outputs": [
    {
     "data": {
      "text/html": [
       "<div>\n",
       "<style scoped>\n",
       "    .dataframe tbody tr th:only-of-type {\n",
       "        vertical-align: middle;\n",
       "    }\n",
       "\n",
       "    .dataframe tbody tr th {\n",
       "        vertical-align: top;\n",
       "    }\n",
       "\n",
       "    .dataframe thead th {\n",
       "        text-align: right;\n",
       "    }\n",
       "</style>\n",
       "<table border=\"1\" class=\"dataframe\">\n",
       "  <thead>\n",
       "    <tr style=\"text-align: right;\">\n",
       "      <th></th>\n",
       "      <th>user_id</th>\n",
       "      <th>lovely_brand</th>\n",
       "      <th>lovely_brand_purchases</th>\n",
       "    </tr>\n",
       "  </thead>\n",
       "  <tbody>\n",
       "    <tr>\n",
       "      <th>18187</th>\n",
       "      <td>1408849249</td>\n",
       "      <td>Store_Brand</td>\n",
       "      <td>1</td>\n",
       "    </tr>\n",
       "    <tr>\n",
       "      <th>18186</th>\n",
       "      <td>1408840919</td>\n",
       "      <td>Store_Brand</td>\n",
       "      <td>1</td>\n",
       "    </tr>\n",
       "    <tr>\n",
       "      <th>18185</th>\n",
       "      <td>1408832719</td>\n",
       "      <td>Brand_4</td>\n",
       "      <td>3</td>\n",
       "    </tr>\n",
       "    <tr>\n",
       "      <th>18184</th>\n",
       "      <td>1408825059</td>\n",
       "      <td>Brand_1</td>\n",
       "      <td>1</td>\n",
       "    </tr>\n",
       "    <tr>\n",
       "      <th>18183</th>\n",
       "      <td>1408817589</td>\n",
       "      <td>Store_Brand</td>\n",
       "      <td>2</td>\n",
       "    </tr>\n",
       "  </tbody>\n",
       "</table>\n",
       "</div>"
      ],
      "text/plain": [
       "          user_id lovely_brand  lovely_brand_purchases\n",
       "18187  1408849249  Store_Brand                       1\n",
       "18186  1408840919  Store_Brand                       1\n",
       "18185  1408832719      Brand_4                       3\n",
       "18184  1408825059      Brand_1                       1\n",
       "18183  1408817589  Store_Brand                       2"
      ]
     },
     "execution_count": 29,
     "metadata": {},
     "output_type": "execute_result"
    }
   ],
   "source": [
    "lovely_brand_purchases_df.head(5) #Сохранили число покупок любимого бренда "
   ]
  },
  {
   "cell_type": "code",
   "execution_count": 30,
   "metadata": {},
   "outputs": [],
   "source": [
    "loyalty_df = user_purchases.merge(users_unique_brands, on='user_id') \\\n",
    "    .merge(lovely_brand_purchases_df, on='user_id')"
   ]
  },
  {
   "cell_type": "code",
   "execution_count": 31,
   "metadata": {},
   "outputs": [
    {
     "data": {
      "text/html": [
       "<div>\n",
       "<style scoped>\n",
       "    .dataframe tbody tr th:only-of-type {\n",
       "        vertical-align: middle;\n",
       "    }\n",
       "\n",
       "    .dataframe tbody tr th {\n",
       "        vertical-align: top;\n",
       "    }\n",
       "\n",
       "    .dataframe thead th {\n",
       "        text-align: right;\n",
       "    }\n",
       "</style>\n",
       "<table border=\"1\" class=\"dataframe\">\n",
       "  <thead>\n",
       "    <tr style=\"text-align: right;\">\n",
       "      <th></th>\n",
       "      <th>user_id</th>\n",
       "      <th>purchases</th>\n",
       "      <th>unique_brand</th>\n",
       "      <th>lovely_brand</th>\n",
       "      <th>lovely_brand_purchases</th>\n",
       "    </tr>\n",
       "  </thead>\n",
       "  <tbody>\n",
       "    <tr>\n",
       "      <th>0</th>\n",
       "      <td>1031</td>\n",
       "      <td>6</td>\n",
       "      <td>2</td>\n",
       "      <td>Store_Brand</td>\n",
       "      <td>5</td>\n",
       "    </tr>\n",
       "    <tr>\n",
       "      <th>1</th>\n",
       "      <td>4241</td>\n",
       "      <td>5</td>\n",
       "      <td>2</td>\n",
       "      <td>Brand_4</td>\n",
       "      <td>3</td>\n",
       "    </tr>\n",
       "    <tr>\n",
       "      <th>2</th>\n",
       "      <td>25971</td>\n",
       "      <td>7</td>\n",
       "      <td>2</td>\n",
       "      <td>Store_Brand</td>\n",
       "      <td>5</td>\n",
       "    </tr>\n",
       "    <tr>\n",
       "      <th>3</th>\n",
       "      <td>40911</td>\n",
       "      <td>27</td>\n",
       "      <td>5</td>\n",
       "      <td>Brand_4</td>\n",
       "      <td>19</td>\n",
       "    </tr>\n",
       "    <tr>\n",
       "      <th>4</th>\n",
       "      <td>45181</td>\n",
       "      <td>5</td>\n",
       "      <td>4</td>\n",
       "      <td>Store_Brand</td>\n",
       "      <td>2</td>\n",
       "    </tr>\n",
       "    <tr>\n",
       "      <th>...</th>\n",
       "      <td>...</td>\n",
       "      <td>...</td>\n",
       "      <td>...</td>\n",
       "      <td>...</td>\n",
       "      <td>...</td>\n",
       "    </tr>\n",
       "    <tr>\n",
       "      <th>3378</th>\n",
       "      <td>1408767189</td>\n",
       "      <td>5</td>\n",
       "      <td>1</td>\n",
       "      <td>Brand_4</td>\n",
       "      <td>5</td>\n",
       "    </tr>\n",
       "    <tr>\n",
       "      <th>3379</th>\n",
       "      <td>1408783189</td>\n",
       "      <td>10</td>\n",
       "      <td>2</td>\n",
       "      <td>Store_Brand</td>\n",
       "      <td>8</td>\n",
       "    </tr>\n",
       "    <tr>\n",
       "      <th>3380</th>\n",
       "      <td>1408783379</td>\n",
       "      <td>6</td>\n",
       "      <td>2</td>\n",
       "      <td>Brand_1</td>\n",
       "      <td>4</td>\n",
       "    </tr>\n",
       "    <tr>\n",
       "      <th>3381</th>\n",
       "      <td>1408798879</td>\n",
       "      <td>8</td>\n",
       "      <td>3</td>\n",
       "      <td>Store_Brand</td>\n",
       "      <td>4</td>\n",
       "    </tr>\n",
       "    <tr>\n",
       "      <th>3382</th>\n",
       "      <td>1408810219</td>\n",
       "      <td>9</td>\n",
       "      <td>2</td>\n",
       "      <td>Brand_2</td>\n",
       "      <td>6</td>\n",
       "    </tr>\n",
       "  </tbody>\n",
       "</table>\n",
       "<p>3383 rows × 5 columns</p>\n",
       "</div>"
      ],
      "text/plain": [
       "         user_id  purchases  unique_brand lovely_brand  lovely_brand_purchases\n",
       "0           1031          6             2  Store_Brand                       5\n",
       "1           4241          5             2      Brand_4                       3\n",
       "2          25971          7             2  Store_Brand                       5\n",
       "3          40911         27             5      Brand_4                      19\n",
       "4          45181          5             4  Store_Brand                       2\n",
       "...          ...        ...           ...          ...                     ...\n",
       "3378  1408767189          5             1      Brand_4                       5\n",
       "3379  1408783189         10             2  Store_Brand                       8\n",
       "3380  1408783379          6             2      Brand_1                       4\n",
       "3381  1408798879          8             3  Store_Brand                       4\n",
       "3382  1408810219          9             2      Brand_2                       6\n",
       "\n",
       "[3383 rows x 5 columns]"
      ]
     },
     "execution_count": 31,
     "metadata": {},
     "output_type": "execute_result"
    }
   ],
   "source": [
    "loyalty_df"
   ]
  },
  {
   "cell_type": "code",
   "execution_count": 32,
   "metadata": {},
   "outputs": [],
   "source": [
    "loyal_users = loyalty_df[loyalty_df.unique_brand == 1]"
   ]
  },
  {
   "cell_type": "code",
   "execution_count": 33,
   "metadata": {},
   "outputs": [],
   "source": [
    "loyalty_df['loyalty_score'] = loyalty_df.lovely_brand_purchases / loyalty_df.purchases"
   ]
  },
  {
   "cell_type": "code",
   "execution_count": 34,
   "metadata": {},
   "outputs": [
    {
     "data": {
      "text/html": [
       "<div>\n",
       "<style scoped>\n",
       "    .dataframe tbody tr th:only-of-type {\n",
       "        vertical-align: middle;\n",
       "    }\n",
       "\n",
       "    .dataframe tbody tr th {\n",
       "        vertical-align: top;\n",
       "    }\n",
       "\n",
       "    .dataframe thead th {\n",
       "        text-align: right;\n",
       "    }\n",
       "</style>\n",
       "<table border=\"1\" class=\"dataframe\">\n",
       "  <thead>\n",
       "    <tr style=\"text-align: right;\">\n",
       "      <th></th>\n",
       "      <th>user_id</th>\n",
       "      <th>purchases</th>\n",
       "      <th>unique_brand</th>\n",
       "      <th>lovely_brand</th>\n",
       "      <th>lovely_brand_purchases</th>\n",
       "      <th>loyalty_score</th>\n",
       "    </tr>\n",
       "  </thead>\n",
       "  <tbody>\n",
       "    <tr>\n",
       "      <th>0</th>\n",
       "      <td>1031</td>\n",
       "      <td>6</td>\n",
       "      <td>2</td>\n",
       "      <td>Store_Brand</td>\n",
       "      <td>5</td>\n",
       "      <td>0.833333</td>\n",
       "    </tr>\n",
       "    <tr>\n",
       "      <th>1</th>\n",
       "      <td>4241</td>\n",
       "      <td>5</td>\n",
       "      <td>2</td>\n",
       "      <td>Brand_4</td>\n",
       "      <td>3</td>\n",
       "      <td>0.600000</td>\n",
       "    </tr>\n",
       "    <tr>\n",
       "      <th>2</th>\n",
       "      <td>25971</td>\n",
       "      <td>7</td>\n",
       "      <td>2</td>\n",
       "      <td>Store_Brand</td>\n",
       "      <td>5</td>\n",
       "      <td>0.714286</td>\n",
       "    </tr>\n",
       "    <tr>\n",
       "      <th>3</th>\n",
       "      <td>40911</td>\n",
       "      <td>27</td>\n",
       "      <td>5</td>\n",
       "      <td>Brand_4</td>\n",
       "      <td>19</td>\n",
       "      <td>0.703704</td>\n",
       "    </tr>\n",
       "    <tr>\n",
       "      <th>4</th>\n",
       "      <td>45181</td>\n",
       "      <td>5</td>\n",
       "      <td>4</td>\n",
       "      <td>Store_Brand</td>\n",
       "      <td>2</td>\n",
       "      <td>0.400000</td>\n",
       "    </tr>\n",
       "    <tr>\n",
       "      <th>...</th>\n",
       "      <td>...</td>\n",
       "      <td>...</td>\n",
       "      <td>...</td>\n",
       "      <td>...</td>\n",
       "      <td>...</td>\n",
       "      <td>...</td>\n",
       "    </tr>\n",
       "    <tr>\n",
       "      <th>3378</th>\n",
       "      <td>1408767189</td>\n",
       "      <td>5</td>\n",
       "      <td>1</td>\n",
       "      <td>Brand_4</td>\n",
       "      <td>5</td>\n",
       "      <td>1.000000</td>\n",
       "    </tr>\n",
       "    <tr>\n",
       "      <th>3379</th>\n",
       "      <td>1408783189</td>\n",
       "      <td>10</td>\n",
       "      <td>2</td>\n",
       "      <td>Store_Brand</td>\n",
       "      <td>8</td>\n",
       "      <td>0.800000</td>\n",
       "    </tr>\n",
       "    <tr>\n",
       "      <th>3380</th>\n",
       "      <td>1408783379</td>\n",
       "      <td>6</td>\n",
       "      <td>2</td>\n",
       "      <td>Brand_1</td>\n",
       "      <td>4</td>\n",
       "      <td>0.666667</td>\n",
       "    </tr>\n",
       "    <tr>\n",
       "      <th>3381</th>\n",
       "      <td>1408798879</td>\n",
       "      <td>8</td>\n",
       "      <td>3</td>\n",
       "      <td>Store_Brand</td>\n",
       "      <td>4</td>\n",
       "      <td>0.500000</td>\n",
       "    </tr>\n",
       "    <tr>\n",
       "      <th>3382</th>\n",
       "      <td>1408810219</td>\n",
       "      <td>9</td>\n",
       "      <td>2</td>\n",
       "      <td>Brand_2</td>\n",
       "      <td>6</td>\n",
       "      <td>0.666667</td>\n",
       "    </tr>\n",
       "  </tbody>\n",
       "</table>\n",
       "<p>3383 rows × 6 columns</p>\n",
       "</div>"
      ],
      "text/plain": [
       "         user_id  purchases  unique_brand lovely_brand  \\\n",
       "0           1031          6             2  Store_Brand   \n",
       "1           4241          5             2      Brand_4   \n",
       "2          25971          7             2  Store_Brand   \n",
       "3          40911         27             5      Brand_4   \n",
       "4          45181          5             4  Store_Brand   \n",
       "...          ...        ...           ...          ...   \n",
       "3378  1408767189          5             1      Brand_4   \n",
       "3379  1408783189         10             2  Store_Brand   \n",
       "3380  1408783379          6             2      Brand_1   \n",
       "3381  1408798879          8             3  Store_Brand   \n",
       "3382  1408810219          9             2      Brand_2   \n",
       "\n",
       "      lovely_brand_purchases  loyalty_score  \n",
       "0                          5       0.833333  \n",
       "1                          3       0.600000  \n",
       "2                          5       0.714286  \n",
       "3                         19       0.703704  \n",
       "4                          2       0.400000  \n",
       "...                      ...            ...  \n",
       "3378                       5       1.000000  \n",
       "3379                       8       0.800000  \n",
       "3380                       4       0.666667  \n",
       "3381                       4       0.500000  \n",
       "3382                       6       0.666667  \n",
       "\n",
       "[3383 rows x 6 columns]"
      ]
     },
     "execution_count": 34,
     "metadata": {},
     "output_type": "execute_result"
    }
   ],
   "source": [
    "loyalty_df\n"
   ]
  },
  {
   "cell_type": "code",
   "execution_count": 35,
   "metadata": {},
   "outputs": [
    {
     "data": {
      "image/png": "[encoded data removed]",
      "text/plain": [
       "<Figure size 360x360 with 1 Axes>"
      ]
     },
     "metadata": {
      "needs_background": "light"
     },
     "output_type": "display_data"
    }
   ],
   "source": [
    "ax = sns.displot(loyalty_df.loyalty_score)"
   ]
  },
  {
   "cell_type": "code",
   "execution_count": 41,
   "metadata": {},
   "outputs": [
    {
     "data": {
      "image/png": "[encoded data removed]",
      "text/plain": [
       "<Figure size 432x288 with 1 Axes>"
      ]
     },
     "metadata": {
      "needs_background": "light"
     },
     "output_type": "display_data"
    }
   ],
   "source": [
    "ax = sns.barplot(x='loyalty_score', data=loyalty_df, color='blue', alpha=0.5)\n",
    "ax.set(xlabel='loyalty_score', ylabel='count')\n",
    "sns.despine()  # убрать часть рамки графика\n",
    "plt.show()"
   ]
  },
  {
   "cell_type": "code",
   "execution_count": null,
   "metadata": {},
   "outputs": [],
   "source": []
  },
  {
   "cell_type": "code",
   "execution_count": 42,
   "metadata": {},
   "outputs": [
    {
     "ename": "AttributeError",
     "evalue": "'DataFrame' object has no attribute 'sort_valuess'",
     "output_type": "error",
     "traceback": [
      "\u001b[0;31m---------------------------------------------------------------------------\u001b[0m",
      "\u001b[0;31mAttributeError\u001b[0m                            Traceback (most recent call last)",
      "\u001b[0;32m<ipython-input-42-45cd2d6d22ae>\u001b[0m in \u001b[0;36m<module>\u001b[0;34m\u001b[0m\n\u001b[1;32m      1\u001b[0m \u001b[0mbrand_loyalty\u001b[0m \u001b[0;34m=\u001b[0m \u001b[0mloyalty_df\u001b[0m\u001b[0;34m.\u001b[0m\u001b[0mgroupby\u001b[0m\u001b[0;34m(\u001b[0m\u001b[0;34m'lovely_brand'\u001b[0m\u001b[0;34m,\u001b[0m\u001b[0mas_index\u001b[0m \u001b[0;34m=\u001b[0m \u001b[0;32mFalse\u001b[0m\u001b[0;34m)\u001b[0m\u001b[0;31m \u001b[0m\u001b[0;31m\\\u001b[0m\u001b[0;34m\u001b[0m\u001b[0;34m\u001b[0m\u001b[0m\n\u001b[0;32m----> 2\u001b[0;31m     \u001b[0;34m.\u001b[0m\u001b[0magg\u001b[0m\u001b[0;34m(\u001b[0m\u001b[0;34m{\u001b[0m\u001b[0;34m'loyalty_score'\u001b[0m\u001b[0;34m:\u001b[0m \u001b[0;34m'median'\u001b[0m\u001b[0;34m,\u001b[0m \u001b[0;34m'user_id'\u001b[0m\u001b[0;34m:\u001b[0m \u001b[0;34m'count'\u001b[0m\u001b[0;34m}\u001b[0m\u001b[0;34m)\u001b[0m\u001b[0;31m \u001b[0m\u001b[0;31m\\\u001b[0m\u001b[0;34m\u001b[0m\u001b[0;34m\u001b[0m\u001b[0m\n\u001b[0m\u001b[1;32m      3\u001b[0m     \u001b[0;34m.\u001b[0m\u001b[0msort_valuess\u001b[0m\u001b[0;34m(\u001b[0m\u001b[0;34m''\u001b[0m\u001b[0;34m)\u001b[0m\u001b[0;34m\u001b[0m\u001b[0;34m\u001b[0m\u001b[0m\n",
      "\u001b[0;32m/opt/tljh/user/lib/python3.7/site-packages/pandas/core/generic.py\u001b[0m in \u001b[0;36m__getattr__\u001b[0;34m(self, name)\u001b[0m\n\u001b[1;32m   5134\u001b[0m             \u001b[0;32mif\u001b[0m \u001b[0mself\u001b[0m\u001b[0;34m.\u001b[0m\u001b[0m_info_axis\u001b[0m\u001b[0;34m.\u001b[0m\u001b[0m_can_hold_identifiers_and_holds_name\u001b[0m\u001b[0;34m(\u001b[0m\u001b[0mname\u001b[0m\u001b[0;34m)\u001b[0m\u001b[0;34m:\u001b[0m\u001b[0;34m\u001b[0m\u001b[0;34m\u001b[0m\u001b[0m\n\u001b[1;32m   5135\u001b[0m                 \u001b[0;32mreturn\u001b[0m \u001b[0mself\u001b[0m\u001b[0;34m[\u001b[0m\u001b[0mname\u001b[0m\u001b[0;34m]\u001b[0m\u001b[0;34m\u001b[0m\u001b[0;34m\u001b[0m\u001b[0m\n\u001b[0;32m-> 5136\u001b[0;31m             \u001b[0;32mreturn\u001b[0m \u001b[0mobject\u001b[0m\u001b[0;34m.\u001b[0m\u001b[0m__getattribute__\u001b[0m\u001b[0;34m(\u001b[0m\u001b[0mself\u001b[0m\u001b[0;34m,\u001b[0m \u001b[0mname\u001b[0m\u001b[0;34m)\u001b[0m\u001b[0;34m\u001b[0m\u001b[0;34m\u001b[0m\u001b[0m\n\u001b[0m\u001b[1;32m   5137\u001b[0m \u001b[0;34m\u001b[0m\u001b[0m\n\u001b[1;32m   5138\u001b[0m     \u001b[0;32mdef\u001b[0m \u001b[0m__setattr__\u001b[0m\u001b[0;34m(\u001b[0m\u001b[0mself\u001b[0m\u001b[0;34m,\u001b[0m \u001b[0mname\u001b[0m\u001b[0;34m:\u001b[0m \u001b[0mstr\u001b[0m\u001b[0;34m,\u001b[0m \u001b[0mvalue\u001b[0m\u001b[0;34m)\u001b[0m \u001b[0;34m->\u001b[0m \u001b[0;32mNone\u001b[0m\u001b[0;34m:\u001b[0m\u001b[0;34m\u001b[0m\u001b[0;34m\u001b[0m\u001b[0m\n",
      "\u001b[0;31mAttributeError\u001b[0m: 'DataFrame' object has no attribute 'sort_valuess'"
     ]
    }
   ],
   "source": [
    "brand_loyalty = loyalty_df.groupby('lovely_brand',as_index = False) \\\n",
    "    .agg({'loyalty_score': 'median', 'user_id': 'count'}) \\\n",
    "    .sort_valuess('')"
   ]
  },
  {
   "cell_type": "code",
   "execution_count": 43,
   "metadata": {},
   "outputs": [
    {
     "ename": "NameError",
     "evalue": "name 'brand_loyalty' is not defined",
     "output_type": "error",
     "traceback": [
      "\u001b[0;31m---------------------------------------------------------------------------\u001b[0m",
      "\u001b[0;31mNameError\u001b[0m                                 Traceback (most recent call last)",
      "\u001b[0;32m<ipython-input-43-b2e5f66d8bda>\u001b[0m in \u001b[0;36m<module>\u001b[0;34m\u001b[0m\n\u001b[0;32m----> 1\u001b[0;31m \u001b[0max\u001b[0m \u001b[0;34m=\u001b[0m \u001b[0msns\u001b[0m\u001b[0;34m.\u001b[0m\u001b[0mbarplot\u001b[0m\u001b[0;34m(\u001b[0m\u001b[0mx\u001b[0m\u001b[0;34m=\u001b[0m\u001b[0;34m\"lovely_brand\"\u001b[0m\u001b[0;34m,\u001b[0m \u001b[0my\u001b[0m\u001b[0;34m=\u001b[0m\u001b[0;34m\"loyalty_score\"\u001b[0m\u001b[0;34m,\u001b[0m \u001b[0mdata\u001b[0m\u001b[0;34m=\u001b[0m\u001b[0mbrand_loyalty\u001b[0m\u001b[0;34m)\u001b[0m\u001b[0;34m\u001b[0m\u001b[0;34m\u001b[0m\u001b[0m\n\u001b[0m",
      "\u001b[0;31mNameError\u001b[0m: name 'brand_loyalty' is not defined"
     ]
    }
   ],
   "source": [
    "ax = sns.barplot(x=\"lovely_brand\", y=\"loyalty_score\", data=brand_loyalty)"
   ]
  },
  {
   "cell_type": "code",
   "execution_count": null,
   "metadata": {},
   "outputs": [],
   "source": []
  },
  {
   "cell_type": "code",
   "execution_count": null,
   "metadata": {},
   "outputs": [],
   "source": []
  },
  {
   "cell_type": "code",
   "execution_count": 44,
   "metadata": {},
   "outputs": [],
   "source": [
    "#ПОШЛИ ЗАДАЧИ"
   ]
  },
  {
   "cell_type": "code",
   "execution_count": 45,
   "metadata": {},
   "outputs": [],
   "source": [
    "import pandas as pd"
   ]
  },
  {
   "cell_type": "code",
   "execution_count": 46,
   "metadata": {},
   "outputs": [],
   "source": [
    "path_to_file = '/mnt/HC_Volume_18315164/home-jupyter/jupyter-v-kachanovskij-24/Lesson3/3_taxi_peru.csv'"
   ]
  },
  {
   "cell_type": "code",
   "execution_count": 47,
   "metadata": {},
   "outputs": [],
   "source": [
    "taxi_peru_df = pd.read_csv(path_to_file, encoding='Windows-1251', sep=';', parse_dates=['start_at', 'end_at', 'arrived_at'])"
   ]
  },
  {
   "cell_type": "code",
   "execution_count": 48,
   "metadata": {},
   "outputs": [
    {
     "data": {
      "text/html": [
       "<div>\n",
       "<style scoped>\n",
       "    .dataframe tbody tr th:only-of-type {\n",
       "        vertical-align: middle;\n",
       "    }\n",
       "\n",
       "    .dataframe tbody tr th {\n",
       "        vertical-align: top;\n",
       "    }\n",
       "\n",
       "    .dataframe thead th {\n",
       "        text-align: right;\n",
       "    }\n",
       "</style>\n",
       "<table border=\"1\" class=\"dataframe\">\n",
       "  <thead>\n",
       "    <tr style=\"text-align: right;\">\n",
       "      <th></th>\n",
       "      <th>journey_id</th>\n",
       "      <th>user_id</th>\n",
       "      <th>driver_id</th>\n",
       "      <th>taxi_id</th>\n",
       "      <th>icon</th>\n",
       "      <th>start_type</th>\n",
       "      <th>start_at</th>\n",
       "      <th>start_lat</th>\n",
       "      <th>start_lon</th>\n",
       "      <th>end_at</th>\n",
       "      <th>end_lat</th>\n",
       "      <th>end_lon</th>\n",
       "      <th>end_state</th>\n",
       "      <th>driver_start_lat</th>\n",
       "      <th>driver_start_lon</th>\n",
       "      <th>arrived_at</th>\n",
       "      <th>source</th>\n",
       "      <th>driver_score</th>\n",
       "      <th>rider_score</th>\n",
       "    </tr>\n",
       "  </thead>\n",
       "  <tbody>\n",
       "    <tr>\n",
       "      <th>0</th>\n",
       "      <td>23a1406fc6a11d866e3c82f22eed4d4c</td>\n",
       "      <td>0e9af5bbf1edfe591b54ecdfd7e91e26</td>\n",
       "      <td>583949a89a9ee17d19e3ca4f137b6b4c</td>\n",
       "      <td>b12f4f09c783e29fe0d0ea624530db56</td>\n",
       "      <td>executive</td>\n",
       "      <td>asap</td>\n",
       "      <td>2010-11-16 16:44:00</td>\n",
       "      <td>-12,13983536</td>\n",
       "      <td>-77,02355957</td>\n",
       "      <td>2010-11-16 17:29:00</td>\n",
       "      <td>-12,05537033</td>\n",
       "      <td>-77,0413208</td>\n",
       "      <td>drop off</td>\n",
       "      <td>-12,10825481</td>\n",
       "      <td>-77,0272739</td>\n",
       "      <td>2010-11-16 17:02:00</td>\n",
       "      <td>iPhone</td>\n",
       "      <td>5.0</td>\n",
       "      <td>5.0</td>\n",
       "    </tr>\n",
       "    <tr>\n",
       "      <th>1</th>\n",
       "      <td>dd2af4715d0dc16eded53afc0e243577</td>\n",
       "      <td>a553c46e3a22fb9c326aeb3d72b3334e</td>\n",
       "      <td>NaN</td>\n",
       "      <td>NaN</td>\n",
       "      <td>executive</td>\n",
       "      <td>asap</td>\n",
       "      <td>2010-01-06 00:34:00</td>\n",
       "      <td>-12,13874817</td>\n",
       "      <td>-76,99536133</td>\n",
       "      <td>2010-01-06 00:37:00</td>\n",
       "      <td>-12,12465668</td>\n",
       "      <td>-77,02886963</td>\n",
       "      <td>not found</td>\n",
       "      <td>NaN</td>\n",
       "      <td>NaN</td>\n",
       "      <td>NaT</td>\n",
       "      <td>iPhone</td>\n",
       "      <td>NaN</td>\n",
       "      <td>NaN</td>\n",
       "    </tr>\n",
       "    <tr>\n",
       "      <th>2</th>\n",
       "      <td>dd91e131888064bf7df3ce08f3d4b4ad</td>\n",
       "      <td>a553c46e3a22fb9c326aeb3d72b3334e</td>\n",
       "      <td>NaN</td>\n",
       "      <td>NaN</td>\n",
       "      <td>executive</td>\n",
       "      <td>asap</td>\n",
       "      <td>2010-05-31 05:01:00</td>\n",
       "      <td>-12,12453079</td>\n",
       "      <td>-77,02780151</td>\n",
       "      <td>2010-05-31 05:04:00</td>\n",
       "      <td>-12,13883209</td>\n",
       "      <td>-76,99530029</td>\n",
       "      <td>not found</td>\n",
       "      <td>NaN</td>\n",
       "      <td>NaN</td>\n",
       "      <td>NaT</td>\n",
       "      <td>iPhone</td>\n",
       "      <td>NaN</td>\n",
       "      <td>NaN</td>\n",
       "    </tr>\n",
       "    <tr>\n",
       "      <th>3</th>\n",
       "      <td>dd2af4715d0dc16eded53afc0e2466d0</td>\n",
       "      <td>a553c46e3a22fb9c326aeb3d72b3334e</td>\n",
       "      <td>NaN</td>\n",
       "      <td>NaN</td>\n",
       "      <td>executive</td>\n",
       "      <td>asap</td>\n",
       "      <td>2010-01-06 00:29:00</td>\n",
       "      <td>-12,13885117</td>\n",
       "      <td>-76,99530029</td>\n",
       "      <td>2010-01-06 00:32:00</td>\n",
       "      <td>-12,12458801</td>\n",
       "      <td>-77,02896118</td>\n",
       "      <td>not found</td>\n",
       "      <td>NaN</td>\n",
       "      <td>NaN</td>\n",
       "      <td>NaT</td>\n",
       "      <td>iPhone</td>\n",
       "      <td>NaN</td>\n",
       "      <td>NaN</td>\n",
       "    </tr>\n",
       "    <tr>\n",
       "      <th>4</th>\n",
       "      <td>85b7eabcf5d84e42dc7629b7d27781af</td>\n",
       "      <td>56772d544fdfa589a020a1ff894a86f7</td>\n",
       "      <td>d665fb9f75ef5d9cd0fd89479380ba78</td>\n",
       "      <td>0accdd3aa5a322f4129fa20b53278c69</td>\n",
       "      <td>executive</td>\n",
       "      <td>reserved</td>\n",
       "      <td>2010-11-09 23:55:00</td>\n",
       "      <td>-12,08995438</td>\n",
       "      <td>-76,92626953</td>\n",
       "      <td>2010-12-09 01:07:00</td>\n",
       "      <td>-12,02223206</td>\n",
       "      <td>-77,10638428</td>\n",
       "      <td>drop off</td>\n",
       "      <td>-12,08311558</td>\n",
       "      <td>-76,9277072</td>\n",
       "      <td>2010-11-09 23:50:00</td>\n",
       "      <td>iPhone</td>\n",
       "      <td>4.0</td>\n",
       "      <td>5.0</td>\n",
       "    </tr>\n",
       "    <tr>\n",
       "      <th>...</th>\n",
       "      <td>...</td>\n",
       "      <td>...</td>\n",
       "      <td>...</td>\n",
       "      <td>...</td>\n",
       "      <td>...</td>\n",
       "      <td>...</td>\n",
       "      <td>...</td>\n",
       "      <td>...</td>\n",
       "      <td>...</td>\n",
       "      <td>...</td>\n",
       "      <td>...</td>\n",
       "      <td>...</td>\n",
       "      <td>...</td>\n",
       "      <td>...</td>\n",
       "      <td>...</td>\n",
       "      <td>...</td>\n",
       "      <td>...</td>\n",
       "      <td>...</td>\n",
       "      <td>...</td>\n",
       "    </tr>\n",
       "    <tr>\n",
       "      <th>23106</th>\n",
       "      <td>4a18ea5737ce0ffecaf20b305a0e2c86</td>\n",
       "      <td>8998bb370b5f0cec43a373adebba0c72</td>\n",
       "      <td>d665fb9f75ef5d9cd0fd89479380ba78</td>\n",
       "      <td>16cbe35db7fff70fbc8251b4cda9fdc9</td>\n",
       "      <td>executive</td>\n",
       "      <td>reserved</td>\n",
       "      <td>2010-07-31 13:15:00</td>\n",
       "      <td>-12,08974075</td>\n",
       "      <td>-77,04699707</td>\n",
       "      <td>2010-07-31 13:27:00</td>\n",
       "      <td>-12,08352661</td>\n",
       "      <td>-77,05044556</td>\n",
       "      <td>drop off</td>\n",
       "      <td>-12,08973527</td>\n",
       "      <td>-77,04787016</td>\n",
       "      <td>2010-07-31 13:15:00</td>\n",
       "      <td>iPhone</td>\n",
       "      <td>5.0</td>\n",
       "      <td>5.0</td>\n",
       "    </tr>\n",
       "    <tr>\n",
       "      <th>23107</th>\n",
       "      <td>f1e4317f2c17991dd90d1cd17ae0d399</td>\n",
       "      <td>5f8a6ffef0ea5df78a8ee890267b60ec</td>\n",
       "      <td>17c21284245ff240c7212732991c2373</td>\n",
       "      <td>716a697375634f32a06d692b0448f13d</td>\n",
       "      <td>executive</td>\n",
       "      <td>asap</td>\n",
       "      <td>2010-02-10 05:26:00</td>\n",
       "      <td>-12,09253011</td>\n",
       "      <td>-77,02875271</td>\n",
       "      <td>2010-02-10 05:56:00</td>\n",
       "      <td>-12,07776001</td>\n",
       "      <td>-77,05623798</td>\n",
       "      <td>drop off</td>\n",
       "      <td>-12,10639693</td>\n",
       "      <td>-77,04028948</td>\n",
       "      <td>2010-02-10 05:39:00</td>\n",
       "      <td>Android</td>\n",
       "      <td>NaN</td>\n",
       "      <td>5.0</td>\n",
       "    </tr>\n",
       "    <tr>\n",
       "      <th>23108</th>\n",
       "      <td>1e44c0fd0a266c3719ff30410b257bce</td>\n",
       "      <td>c0ffb6f6cd801004dd8609c12277c2d1</td>\n",
       "      <td>4851ee4c867c9b49b909c1adb76c31e9</td>\n",
       "      <td>4851ee4c867c9b49b909c1adb76c538e</td>\n",
       "      <td>executive</td>\n",
       "      <td>asap</td>\n",
       "      <td>2010-09-21 09:56:00</td>\n",
       "      <td>-12,1275637</td>\n",
       "      <td>-77,02642288</td>\n",
       "      <td>2010-09-21 10:18:00</td>\n",
       "      <td>-12,10529838</td>\n",
       "      <td>-77,04735249</td>\n",
       "      <td>drop off</td>\n",
       "      <td>-12,12605017</td>\n",
       "      <td>-77,01882491</td>\n",
       "      <td>2010-09-21 10:05:00</td>\n",
       "      <td>Android</td>\n",
       "      <td>0.0</td>\n",
       "      <td>0.0</td>\n",
       "    </tr>\n",
       "    <tr>\n",
       "      <th>23109</th>\n",
       "      <td>7073883383b89ad289e864022150cdd7</td>\n",
       "      <td>c0ffb6f6cd801004dd8609c12277c2d1</td>\n",
       "      <td>56f59b58bcbbd1cdabc3652e713134c2</td>\n",
       "      <td>924d4f0e7554566623e8ebb3904a7b0c</td>\n",
       "      <td>executive</td>\n",
       "      <td>reserved</td>\n",
       "      <td>2010-04-29 04:30:00</td>\n",
       "      <td>-12,019468</td>\n",
       "      <td>-77,1077669</td>\n",
       "      <td>2010-04-29 05:11:00</td>\n",
       "      <td>-12,09909987</td>\n",
       "      <td>-77,03475013</td>\n",
       "      <td>drop off</td>\n",
       "      <td>-12,0710933</td>\n",
       "      <td>-77,09855131</td>\n",
       "      <td>2010-04-29 04:23:00</td>\n",
       "      <td>Android</td>\n",
       "      <td>NaN</td>\n",
       "      <td>5.0</td>\n",
       "    </tr>\n",
       "    <tr>\n",
       "      <th>23110</th>\n",
       "      <td>b7dea45c3cc92b9efd5a4905e69ff9bf</td>\n",
       "      <td>c0ffb6f6cd801004dd8609c12277c2d1</td>\n",
       "      <td>924d4f0e7554566623e8ebb390491d08</td>\n",
       "      <td>924d4f0e7554566623e8ebb390491492</td>\n",
       "      <td>executive</td>\n",
       "      <td>asap</td>\n",
       "      <td>2010-03-16 19:58:00</td>\n",
       "      <td>-12,1334974</td>\n",
       "      <td>-77,0272581</td>\n",
       "      <td>2010-03-16 20:02:00</td>\n",
       "      <td>-12,029174</td>\n",
       "      <td>-76,93977</td>\n",
       "      <td>rider cancel</td>\n",
       "      <td>-12,09586711</td>\n",
       "      <td>-77,07372552</td>\n",
       "      <td>NaT</td>\n",
       "      <td>web</td>\n",
       "      <td>NaN</td>\n",
       "      <td>NaN</td>\n",
       "    </tr>\n",
       "  </tbody>\n",
       "</table>\n",
       "<p>23111 rows × 19 columns</p>\n",
       "</div>"
      ],
      "text/plain": [
       "                             journey_id                           user_id  \\\n",
       "0      23a1406fc6a11d866e3c82f22eed4d4c  0e9af5bbf1edfe591b54ecdfd7e91e26   \n",
       "1      dd2af4715d0dc16eded53afc0e243577  a553c46e3a22fb9c326aeb3d72b3334e   \n",
       "2      dd91e131888064bf7df3ce08f3d4b4ad  a553c46e3a22fb9c326aeb3d72b3334e   \n",
       "3      dd2af4715d0dc16eded53afc0e2466d0  a553c46e3a22fb9c326aeb3d72b3334e   \n",
       "4      85b7eabcf5d84e42dc7629b7d27781af  56772d544fdfa589a020a1ff894a86f7   \n",
       "...                                 ...                               ...   \n",
       "23106  4a18ea5737ce0ffecaf20b305a0e2c86  8998bb370b5f0cec43a373adebba0c72   \n",
       "23107  f1e4317f2c17991dd90d1cd17ae0d399  5f8a6ffef0ea5df78a8ee890267b60ec   \n",
       "23108  1e44c0fd0a266c3719ff30410b257bce  c0ffb6f6cd801004dd8609c12277c2d1   \n",
       "23109  7073883383b89ad289e864022150cdd7  c0ffb6f6cd801004dd8609c12277c2d1   \n",
       "23110  b7dea45c3cc92b9efd5a4905e69ff9bf  c0ffb6f6cd801004dd8609c12277c2d1   \n",
       "\n",
       "                              driver_id                           taxi_id  \\\n",
       "0      583949a89a9ee17d19e3ca4f137b6b4c  b12f4f09c783e29fe0d0ea624530db56   \n",
       "1                                   NaN                               NaN   \n",
       "2                                   NaN                               NaN   \n",
       "3                                   NaN                               NaN   \n",
       "4      d665fb9f75ef5d9cd0fd89479380ba78  0accdd3aa5a322f4129fa20b53278c69   \n",
       "...                                 ...                               ...   \n",
       "23106  d665fb9f75ef5d9cd0fd89479380ba78  16cbe35db7fff70fbc8251b4cda9fdc9   \n",
       "23107  17c21284245ff240c7212732991c2373  716a697375634f32a06d692b0448f13d   \n",
       "23108  4851ee4c867c9b49b909c1adb76c31e9  4851ee4c867c9b49b909c1adb76c538e   \n",
       "23109  56f59b58bcbbd1cdabc3652e713134c2  924d4f0e7554566623e8ebb3904a7b0c   \n",
       "23110  924d4f0e7554566623e8ebb390491d08  924d4f0e7554566623e8ebb390491492   \n",
       "\n",
       "            icon start_type            start_at     start_lat     start_lon  \\\n",
       "0      executive       asap 2010-11-16 16:44:00  -12,13983536  -77,02355957   \n",
       "1      executive       asap 2010-01-06 00:34:00  -12,13874817  -76,99536133   \n",
       "2      executive       asap 2010-05-31 05:01:00  -12,12453079  -77,02780151   \n",
       "3      executive       asap 2010-01-06 00:29:00  -12,13885117  -76,99530029   \n",
       "4      executive   reserved 2010-11-09 23:55:00  -12,08995438  -76,92626953   \n",
       "...          ...        ...                 ...           ...           ...   \n",
       "23106  executive   reserved 2010-07-31 13:15:00  -12,08974075  -77,04699707   \n",
       "23107  executive       asap 2010-02-10 05:26:00  -12,09253011  -77,02875271   \n",
       "23108  executive       asap 2010-09-21 09:56:00   -12,1275637  -77,02642288   \n",
       "23109  executive   reserved 2010-04-29 04:30:00    -12,019468   -77,1077669   \n",
       "23110  executive       asap 2010-03-16 19:58:00   -12,1334974   -77,0272581   \n",
       "\n",
       "                   end_at       end_lat       end_lon     end_state  \\\n",
       "0     2010-11-16 17:29:00  -12,05537033   -77,0413208      drop off   \n",
       "1     2010-01-06 00:37:00  -12,12465668  -77,02886963     not found   \n",
       "2     2010-05-31 05:04:00  -12,13883209  -76,99530029     not found   \n",
       "3     2010-01-06 00:32:00  -12,12458801  -77,02896118     not found   \n",
       "4     2010-12-09 01:07:00  -12,02223206  -77,10638428      drop off   \n",
       "...                   ...           ...           ...           ...   \n",
       "23106 2010-07-31 13:27:00  -12,08352661  -77,05044556      drop off   \n",
       "23107 2010-02-10 05:56:00  -12,07776001  -77,05623798      drop off   \n",
       "23108 2010-09-21 10:18:00  -12,10529838  -77,04735249      drop off   \n",
       "23109 2010-04-29 05:11:00  -12,09909987  -77,03475013      drop off   \n",
       "23110 2010-03-16 20:02:00    -12,029174     -76,93977  rider cancel   \n",
       "\n",
       "      driver_start_lat driver_start_lon          arrived_at   source  \\\n",
       "0         -12,10825481      -77,0272739 2010-11-16 17:02:00   iPhone   \n",
       "1                  NaN              NaN                 NaT   iPhone   \n",
       "2                  NaN              NaN                 NaT   iPhone   \n",
       "3                  NaN              NaN                 NaT   iPhone   \n",
       "4         -12,08311558      -76,9277072 2010-11-09 23:50:00   iPhone   \n",
       "...                ...              ...                 ...      ...   \n",
       "23106     -12,08973527     -77,04787016 2010-07-31 13:15:00   iPhone   \n",
       "23107     -12,10639693     -77,04028948 2010-02-10 05:39:00  Android   \n",
       "23108     -12,12605017     -77,01882491 2010-09-21 10:05:00  Android   \n",
       "23109      -12,0710933     -77,09855131 2010-04-29 04:23:00  Android   \n",
       "23110     -12,09586711     -77,07372552                 NaT      web   \n",
       "\n",
       "       driver_score  rider_score  \n",
       "0               5.0          5.0  \n",
       "1               NaN          NaN  \n",
       "2               NaN          NaN  \n",
       "3               NaN          NaN  \n",
       "4               4.0          5.0  \n",
       "...             ...          ...  \n",
       "23106           5.0          5.0  \n",
       "23107           NaN          5.0  \n",
       "23108           0.0          0.0  \n",
       "23109           NaN          5.0  \n",
       "23110           NaN          NaN  \n",
       "\n",
       "[23111 rows x 19 columns]"
      ]
     },
     "execution_count": 48,
     "metadata": {},
     "output_type": "execute_result"
    }
   ],
   "source": [
    "taxi_peru_df"
   ]
  },
  {
   "cell_type": "code",
   "execution_count": null,
   "metadata": {},
   "outputs": [],
   "source": []
  },
  {
   "cell_type": "code",
   "execution_count": 50,
   "metadata": {},
   "outputs": [],
   "source": [
    "new_taxi = pd.DataFrame(taxi_peru_df.source.value_counts(normalize=True).round(2))#Перевод в проценты"
   ]
  },
  {
   "cell_type": "code",
   "execution_count": null,
   "metadata": {},
   "outputs": [],
   "source": []
  },
  {
   "cell_type": "code",
   "execution_count": 51,
   "metadata": {},
   "outputs": [
    {
     "data": {
      "text/plain": [
       "<matplotlib.axes._subplots.AxesSubplot at 0x7ff4f01c6860>"
      ]
     },
     "execution_count": 51,
     "metadata": {},
     "output_type": "execute_result"
    },
    {
     "data": {
      "image/png": "[encoded data removed]",
      "text/plain": [
       "<Figure size 432x288 with 1 Axes>"
      ]
     },
     "metadata": {
      "needs_background": "light"
     },
     "output_type": "display_data"
    }
   ],
   "source": [
    "sns.countplot(x='source', hue='end_state', data=taxi_peru_df)"
   ]
  },
  {
   "cell_type": "code",
   "execution_count": 52,
   "metadata": {},
   "outputs": [],
   "source": [
    "driver_score_counts = taxi_peru_df.driver_score.value_counts(normalize=True) \\\n",
    "    .mul(100) \\\n",
    "    .round(2) \\\n",
    "    .reset_index()\\\n",
    "    .rename(columns={'index': 'driver_score', 'driver_score': 'percentage'}) \\\n",
    "    .sort_values('driver_score', ascending=True)"
   ]
  },
  {
   "cell_type": "code",
   "execution_count": 53,
   "metadata": {},
   "outputs": [
    {
     "data": {
      "text/html": [
       "<div>\n",
       "<style scoped>\n",
       "    .dataframe tbody tr th:only-of-type {\n",
       "        vertical-align: middle;\n",
       "    }\n",
       "\n",
       "    .dataframe tbody tr th {\n",
       "        vertical-align: top;\n",
       "    }\n",
       "\n",
       "    .dataframe thead th {\n",
       "        text-align: right;\n",
       "    }\n",
       "</style>\n",
       "<table border=\"1\" class=\"dataframe\">\n",
       "  <thead>\n",
       "    <tr style=\"text-align: right;\">\n",
       "      <th></th>\n",
       "      <th>driver_score</th>\n",
       "      <th>percentage</th>\n",
       "    </tr>\n",
       "  </thead>\n",
       "  <tbody>\n",
       "    <tr>\n",
       "      <th>2</th>\n",
       "      <td>0.0</td>\n",
       "      <td>14.30</td>\n",
       "    </tr>\n",
       "    <tr>\n",
       "      <th>4</th>\n",
       "      <td>1.0</td>\n",
       "      <td>1.23</td>\n",
       "    </tr>\n",
       "    <tr>\n",
       "      <th>5</th>\n",
       "      <td>2.0</td>\n",
       "      <td>0.81</td>\n",
       "    </tr>\n",
       "    <tr>\n",
       "      <th>3</th>\n",
       "      <td>3.0</td>\n",
       "      <td>2.97</td>\n",
       "    </tr>\n",
       "    <tr>\n",
       "      <th>1</th>\n",
       "      <td>4.0</td>\n",
       "      <td>21.88</td>\n",
       "    </tr>\n",
       "    <tr>\n",
       "      <th>0</th>\n",
       "      <td>5.0</td>\n",
       "      <td>58.81</td>\n",
       "    </tr>\n",
       "  </tbody>\n",
       "</table>\n",
       "</div>"
      ],
      "text/plain": [
       "   driver_score  percentage\n",
       "2           0.0       14.30\n",
       "4           1.0        1.23\n",
       "5           2.0        0.81\n",
       "3           3.0        2.97\n",
       "1           4.0       21.88\n",
       "0           5.0       58.81"
      ]
     },
     "execution_count": 53,
     "metadata": {},
     "output_type": "execute_result"
    }
   ],
   "source": [
    "driver_score_counts"
   ]
  },
  {
   "cell_type": "code",
   "execution_count": 54,
   "metadata": {},
   "outputs": [],
   "source": [
    "rider_score_counts = taxi_peru_df.rider_score.value_counts(normalize=True) \\\n",
    "    .mul(100) \\\n",
    "    .round(2) \\\n",
    "    .reset_index()\\\n",
    "    .rename(columns={'index': 'rider_score', 'rider_score': 'percentage'}) \\\n",
    "    .sort_values('rider_score', ascending=True)"
   ]
  },
  {
   "cell_type": "raw",
   "metadata": {},
   "source": []
  },
  {
   "cell_type": "code",
   "execution_count": 55,
   "metadata": {},
   "outputs": [
    {
     "data": {
      "text/html": [
       "<div>\n",
       "<style scoped>\n",
       "    .dataframe tbody tr th:only-of-type {\n",
       "        vertical-align: middle;\n",
       "    }\n",
       "\n",
       "    .dataframe tbody tr th {\n",
       "        vertical-align: top;\n",
       "    }\n",
       "\n",
       "    .dataframe thead th {\n",
       "        text-align: right;\n",
       "    }\n",
       "</style>\n",
       "<table border=\"1\" class=\"dataframe\">\n",
       "  <thead>\n",
       "    <tr style=\"text-align: right;\">\n",
       "      <th></th>\n",
       "      <th>rider_score</th>\n",
       "      <th>percentage</th>\n",
       "    </tr>\n",
       "  </thead>\n",
       "  <tbody>\n",
       "    <tr>\n",
       "      <th>2</th>\n",
       "      <td>0.0</td>\n",
       "      <td>2.29</td>\n",
       "    </tr>\n",
       "    <tr>\n",
       "      <th>4</th>\n",
       "      <td>1.0</td>\n",
       "      <td>0.21</td>\n",
       "    </tr>\n",
       "    <tr>\n",
       "      <th>5</th>\n",
       "      <td>2.0</td>\n",
       "      <td>0.19</td>\n",
       "    </tr>\n",
       "    <tr>\n",
       "      <th>3</th>\n",
       "      <td>3.0</td>\n",
       "      <td>1.38</td>\n",
       "    </tr>\n",
       "    <tr>\n",
       "      <th>1</th>\n",
       "      <td>4.0</td>\n",
       "      <td>8.83</td>\n",
       "    </tr>\n",
       "    <tr>\n",
       "      <th>0</th>\n",
       "      <td>5.0</td>\n",
       "      <td>87.10</td>\n",
       "    </tr>\n",
       "  </tbody>\n",
       "</table>\n",
       "</div>"
      ],
      "text/plain": [
       "   rider_score  percentage\n",
       "2          0.0        2.29\n",
       "4          1.0        0.21\n",
       "5          2.0        0.19\n",
       "3          3.0        1.38\n",
       "1          4.0        8.83\n",
       "0          5.0       87.10"
      ]
     },
     "execution_count": 55,
     "metadata": {},
     "output_type": "execute_result"
    }
   ],
   "source": [
    "rider_score_counts"
   ]
  },
  {
   "cell_type": "code",
   "execution_count": 59,
   "metadata": {},
   "outputs": [
    {
     "data": {
      "text/plain": [
       "<matplotlib.axes._subplots.AxesSubplot at 0x7ff4ef51bf28>"
      ]
     },
     "execution_count": 59,
     "metadata": {},
     "output_type": "execute_result"
    },
    {
     "data": {
      "image/png": "[encoded data removed]",
      "text/plain": [
       "<Figure size 432x288 with 1 Axes>"
      ]
     },
     "metadata": {
      "needs_background": "light"
     },
     "output_type": "display_data"
    }
   ],
   "source": [
    "sns.barplot(x='percentage', y= 'rider_score', data =rider_score_counts)# Оценка ВОДИТЕЛЯМИ клиентов"
   ]
  },
  {
   "cell_type": "code",
   "execution_count": 61,
   "metadata": {},
   "outputs": [
    {
     "data": {
      "text/plain": [
       "<matplotlib.axes._subplots.AxesSubplot at 0x7ff4efaa14e0>"
      ]
     },
     "execution_count": 61,
     "metadata": {},
     "output_type": "execute_result"
    },
    {
     "data": {
      "image/png": "[encoded data removed]",
      "text/plain": [
       "<Figure size 432x288 with 1 Axes>"
      ]
     },
     "metadata": {
      "needs_background": "light"
     },
     "output_type": "display_data"
    }
   ],
   "source": [
    "sns.barplot(x='percentage', y= 'driver_score', data =driver_score_counts)# Оценка КЛЕНТАМИ водителей"
   ]
  },
  {
   "cell_type": "code",
   "execution_count": null,
   "metadata": {},
   "outputs": [],
   "source": []
  }
 ],
 "metadata": {
  "kernelspec": {
   "display_name": "Python 3",
   "language": "python",
   "name": "python3"
  },
  "language_info": {
   "codemirror_mode": {
    "name": "ipython",
    "version": 3
   },
   "file_extension": ".py",
   "mimetype": "text/x-python",
   "name": "python",
   "nbconvert_exporter": "python",
   "pygments_lexer": "ipython3",
   "version": "3.7.3"
  }
 },
 "nbformat": 4,
 "nbformat_minor": 4
}
